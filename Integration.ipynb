{
 "cells": [
  {
   "cell_type": "markdown",
   "metadata": {},
   "source": [
    "# Trapezoidal rule integration\n",
    "This notebook defines a function integrate_trapezoidal(integrand,x_min,x_max,n_points) which returns the numerical integral of function \"integrand(x)\" from x_min to x_max with n_points points. \n",
    "\n",
    "If you're wondering how I formatted this text cell, I selected \"Markdown\" from the dropdown box at the top (the default is \"Code\"). Shift-enter makes it look pretty."
   ]
  },
  {
   "cell_type": "markdown",
   "metadata": {},
   "source": [
    "## Define the integration routine as a function\n",
    "I define the integrand as a function so it's easy to pass in whatever function needs to be integrated. Import a few necessary libraries."
   ]
  },
  {
   "cell_type": "code",
   "execution_count": 9,
   "metadata": {},
   "outputs": [],
   "source": [
    "import math                       \n",
    "import numpy as np               #for numerical operations, arrays\n",
    "import matplotlib.pyplot as plt  #for plotting\n",
    "\n",
    "#This is whatever function you want to integrate\n",
    "def integrand(x):\n",
    "    return math.sin(x*math.pi)\n",
    "print('this is indys')"
   ]
  },
  {
   "cell_type": "markdown",
   "metadata": {},
   "source": [
    "For a quick refresh on the trapezoidal rule, and how to write it in a simpler form, see https://en.wikipedia.org/wiki/Trapezoidal_rule#Uniform_grid\n",
    "\n",
    "We only need to consider a uniform grid. There are more complicated ways to calculate an integral, but this simple method becomes quite powerful when used with the Romberg method (maybe later). https://en.wikipedia.org/wiki/Romberg%27s_method"
   ]
  },
  {
   "cell_type": "code",
   "execution_count": 4,
   "metadata": {},
   "outputs": [
    {
     "data": {
      "text/plain": [
       "3.0"
      ]
     },
     "execution_count": 4,
     "metadata": {},
     "output_type": "execute_result"
    }
   ],
   "source": [
    "#define an integration function\n",
    "def integrate_trapezoidal(integrand,x_min,x_max,n_points):\n",
    "    \n",
    "\n",
    "    #the Riemann sum will be computed by accumulating the sum in the variable \"sum\"\n",
    "    sum=0.0\n",
    "    \n",
    "    #loop over boxes\n",
    "    \n",
    "    \n",
    "    sum = sum - 1 #what you should addis not 1 but each term in the summation.\n",
    "    \n",
    "    \n",
    "    #at the end of the loop, the value of sum represents the numerical integral\n",
    "    return sum\n",
    "    \n",
    "integrate(1,2,3,integrand)"
   ]
  },
  {
   "cell_type": "markdown",
   "metadata": {},
   "source": [
    "Evaluate the function"
   ]
  },
  {
   "cell_type": "code",
   "execution_count": 17,
   "metadata": {},
   "outputs": [
    {
     "data": {
      "text/plain": [
       "3.0"
      ]
     },
     "execution_count": 17,
     "metadata": {},
     "output_type": "execute_result"
    }
   ],
   "source": [
    "integrate(1,2,3,integrand)"
   ]
  },
  {
   "cell_type": "markdown",
   "metadata": {},
   "source": [
    "## Make a table showing convergence of the integral"
   ]
  },
  {
   "cell_type": "code",
   "execution_count": 15,
   "metadata": {},
   "outputs": [
    {
     "name": "stdout",
     "output_type": "stream",
     "text": [
      "0 3.0\n",
      "1 3.0\n",
      "2 3.0\n",
      "3 3.0\n",
      "4 3.0\n",
      "5 3.0\n",
      "6 3.0\n",
      "7 3.0\n",
      "8 3.0\n",
      "9 3.0\n"
     ]
    }
   ],
   "source": [
    "for n in np.arange(0,10):\n",
    "    print(n,integrate(integrand,-3,3,n))"
   ]
  },
  {
   "cell_type": "code",
   "execution_count": null,
   "metadata": {},
   "outputs": [],
   "source": []
  }
 ],
 "metadata": {
  "kernelspec": {
   "display_name": "Python 3",
   "language": "python",
   "name": "python3"
  },
  "language_info": {
   "codemirror_mode": {
    "name": "ipython",
    "version": 3
   },
   "file_extension": ".py",
   "mimetype": "text/x-python",
   "name": "python",
   "nbconvert_exporter": "python",
   "pygments_lexer": "ipython3",
   "version": "3.7.1"
  }
 },
 "nbformat": 4,
 "nbformat_minor": 2
}
